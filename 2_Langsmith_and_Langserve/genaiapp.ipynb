{
 "cells": [
  {
   "cell_type": "code",
   "execution_count": 66,
   "metadata": {},
   "outputs": [],
   "source": [
    "import os\n",
    "from dotenv import load_dotenv\n",
    "load_dotenv()\n",
    "\n",
    "os.environ[\"OPENAI_API_KEY\"]=os.getenv(\"OPENAI_API_KEY\")\n",
    "os.environ[\"LANGCHAIN_PROJECT\"]=os.getenv(\"LANGCHAIN_PROJECT\")\n",
    "os.environ[\"LANGCHAIN_TRACING_V2\"]=os.getenv(\"LANGCHAIN_TRACING_V2\")\n",
    "os.environ[\"LANGCHAIN_API_KEY\"]=os.getenv(\"LANGCHAIN_API_KEY\")\n"
   ]
  },
  {
   "cell_type": "code",
   "execution_count": 67,
   "metadata": {},
   "outputs": [
    {
     "data": {
      "text/plain": [
       "<langchain_community.document_loaders.web_base.WebBaseLoader at 0x7f9549447fa0>"
      ]
     },
     "execution_count": 67,
     "metadata": {},
     "output_type": "execute_result"
    }
   ],
   "source": [
    "#### data injection\n",
    "\n",
    "from langchain_community.document_loaders import WebBaseLoader\n",
    "loader=WebBaseLoader(\"https://www.javatpoint.com/machine-learning\")\n",
    "loader"
   ]
  },
  {
   "cell_type": "code",
   "execution_count": 68,
   "metadata": {},
   "outputs": [],
   "source": [
    "doc=loader.load()"
   ]
  },
  {
   "cell_type": "code",
   "execution_count": 69,
   "metadata": {},
   "outputs": [
    {
     "data": {
      "text/plain": [
       "[Document(metadata={'source': 'https://www.javatpoint.com/machine-learning', 'title': 'Machine Learning Tutorial', 'description': ' Machine Learning: What It is, Tutorial, Definition, Types with Machine Learning, Machine Learning Tutorial, Machine Learning Introduction, What is Machine Learning, Data Machine Learning, Applications of Machine Learning, Machine Learning vs Artificial Intelligence, dimensionality reduction, deep learning, etc.', 'language': 'en'}, page_content='Machine Learning TutorialTutorials×PythonPython Django Numpy Pandas Tkinter Pytorch Flask OpenCVAI, ML and Data ScienceArtificial Intelligence Machine Learning Data Science Deep Learning TensorFlow Artificial Neural Network Matplotlib Python ScipyJavaJava Servlet JSP Spring Boot Spring Framework Hibernate JavaFX Java Web ServicesB.Tech and MCADBMS Data Structures Operating System Computer Network DAA Computer Organization Software Engineering Data MiningWeb TechnologyHTML CSS JavaScript Jquery Angular-8 React JS React Native Node JSSoftware TestingSoftware Testing Selenium JIRA JMeter Postman TestNG SoapUI CucumberInterview×Technical InterviewC C++ Php Java Python JavaScript TypeScriptJava InterviewJDBC Servlet Maven Jenkins Spring Spring Boot JDB Hibernate JSFWeb InterviewHTML CSS JavaScript Jquery Angular Node-JS AJAXDatabase InterviewDBMS SQL PL/SQL Oracle MySQL MongoDB Redis MariaDBCompany InterviewsIBM Adobe Microsoft Amazon TCS HCL Wipro DXC Accenture Capgemini Space X Ericsson Infosy IGate EXL IndiaMART SapientCompilerPythonJavaPhpCC++RHtmlJavascriptTypescriptSwiftHome Python Java JavaScriptHTML SQL PHP C# C++ DS Aptitude Reasoning Selenium DBMS C Andriod Interview QReinforcement LearningReinforcement Learning TutorialRelated TutorialsMachine Learning TutorialArtificial Intelligence TutorialNLP TutorialTensorflow TutorialPyTorch TutorialData Science Tutorialnext →Machine Learning TutorialThe Machine Learning Tutorial covers both the fundamentals and more complex ideas of machine learning. Students and professionals in the workforce can benefit from our machine learning tutorial.A rapidly developing field of technology, machine learning allows computers to automatically learn from previous data. For building mathematical models and making predictions based on historical data or information, machine learning employs a variety of algorithms. It is currently being used for a variety of tasks, including speech recognition, email filtering, auto-tagging on Facebook, a recommender system, and image recognition.You will learn about the many different methods of machine learning, including reinforcement learning, supervised learning, and unsupervised learning, in this machine learning tutorial. Regression and classification models, clustering techniques, hidden Markov models, and various sequential models will all be covered.What is Machine LearningIn the real world, we are surrounded by humans who can learn everything from their experiences with their learning capability, and we have computers or machines which work on our instructions. But can a machine also learn from experiences or past data like a human does? So here comes the role of Machine Learning.Introduction to Machine LearningA subset of artificial intelligence known as machine learning focuses primarily on the creation of algorithms that enable a computer to independently learn from data and previous experiences. Arthur Samuel first used the term \"machine learning\" in 1959. It could be summarized as follows:Without being explicitly programmed, machine learning enables a machine to automatically learn from data, improve performance from experiences, and predict things.Machine learning algorithms create a mathematical model that, without being explicitly programmed, aids in making predictions or decisions with the assistance of sample historical data, or training data. For the purpose of developing predictive models, machine learning brings together statistics and computer science. Algorithms that learn from historical data are either constructed or utilized in machine learning. The performance will rise in proportion to the quantity of information we provide.A machine can learn if it can gain more data to improve its performance.How does Machine Learning workA machine learning system builds prediction models, learns from previous data, and predicts the output of new data whenever it receives it. The amount of data helps to build a better model that accurately predicts the output, which in turn affects the accuracy of the predicted output.Let\\'s say we have a complex problem in which we need to make predictions. Instead of writing code, we just need to feed the data to generic algorithms, which build the logic based on the data and predict the output. Our perspective on the issue has changed as a result of machine learning. The Machine Learning algorithm\\'s operation is depicted in the following block diagram:Features of Machine Learning:Machine learning uses data to detect various patterns in a given dataset.It can learn from past data and improve automatically.It is a data-driven technology.Machine learning is much similar to data mining as it also deals with the huge amount of the data.Need for Machine LearningThe demand for machine learning is steadily rising. Because it is able to perform tasks that are too complex for a person to directly implement, machine learning is required. Humans are constrained by our inability to manually access vast amounts of data; as a result, we require computer systems, which is where machine learning comes in to simplify our lives.By providing them with a large amount of data and allowing them to automatically explore the data, build models, and predict the required output, we can train machine learning algorithms. The cost function can be used to determine the amount of data and the machine learning algorithm\\'s performance. We can save both time and money by using machine learning.The significance of AI can be handily perceived by its utilization\\'s cases, Presently, AI is utilized in self-driving vehicles, digital misrepresentation identification, face acknowledgment, and companion idea by Facebook, and so on. Different top organizations, for example, Netflix and Amazon have constructed AI models that are utilizing an immense measure of information to examine the client interest and suggest item likewise.Following are some key points which show the importance of Machine Learning:Rapid increment in the production of dataSolving complex problems, which are difficult for a humanDecision making in various sector including financeFinding hidden patterns and extracting useful information from data.Classification of Machine LearningAt a broad level, machine learning can be classified into three types:Supervised learningUnsupervised learningReinforcement learning1) Supervised LearningIn supervised learning, sample labeled data are provided to the machine learning system for training, and the system then predicts the output based on the training data.The system uses labeled data to build a model that understands the datasets and learns about each one. After the training and processing are done, we test the model with sample data to see if it can accurately predict the output.The mapping of the input data to the output data is the objective of supervised learning. The managed learning depends on oversight, and it is equivalent to when an understudy learns things in the management of the educator. Spam filtering is an example of supervised learning.Supervised learning can be grouped further in two categories of algorithms:ClassificationRegression2) Unsupervised LearningUnsupervised learning is a learning method in which a machine learns without any supervision.The training is provided to the machine with the set of data that has not been labeled, classified, or categorized, and the algorithm needs to act on that data without any supervision. The goal of unsupervised learning is to restructure the input data into new features or a group of objects with similar patterns.In unsupervised learning, we don\\'t have a predetermined result. The machine tries to find useful insights from the huge amount of data. It can be further classifieds into two categories of algorithms:ClusteringAssociation3) Reinforcement LearningReinforcement learning is a feedback-based learning method, in which a learning agent gets a reward for each right action and gets a penalty for each wrong action. The agent learns automatically with these feedbacks and improves its performance. In reinforcement learning, the agent interacts with the environment and explores it. The goal of an agent is to get the most reward points, and hence, it improves its performance.The robotic dog, which automatically learns the movement of his arms, is an example of Reinforcement learning.Note: We will learn about the above types of machine learning in detail in later chapters.History of Machine LearningBefore some years (about 40-50 years), machine learning was science fiction, but today it is the part of our daily life. Machine learning is making our day to day life easy from self-driving cars to Amazon virtual assistant \"Alexa\". However, the idea behind machine learning is so old and has a long history. Below some milestones are given which have occurred in the history of machine learning:The early history of Machine Learning (Pre-1940):1834: In 1834, Charles Babbage, the father of the computer, conceived a device that could be programmed with punch cards. However, the machine was never built, but all modern computers rely on its logical structure.1936: In 1936, Alan Turing gave a theory that how a machine can determine and execute a set of instructions.The era of stored program computers:1940: In 1940, the first manually operated computer, \"ENIAC\" was invented, which was the first electronic general-purpose computer. After that stored program computer such as EDSAC in 1949 and EDVAC in 1951 were invented.1943: In 1943, a human neural network was modeled with an electrical circuit. In 1950, the scientists started applying their idea to work and analyzed how human neurons might work.Computer machinery and intelligence:1950: In 1950, Alan Turing published a seminal paper, \"Computer Machinery and Intelligence,\" on the topic of artificial intelligence. In his paper, he asked, \"Can machines think?\"Machine intelligence in Games:1952: Arthur Samuel, who was the pioneer of machine learning, created a program that helped an IBM computer to play a checkers game. It performed better more it played.1959: In 1959, the term \"Machine Learning\" was first coined by Arthur Samuel.The first \"AI\" winter:The duration of 1974 to 1980 was the tough time for AI and ML researchers, and this duration was called as AI winter.In this duration, failure of machine translation occurred, and people had reduced their interest from AI, which led to reduced funding by the government to the researches.Machine Learning from theory to reality1959: In 1959, the first neural network was applied to a real-world problem to remove echoes over phone lines using an adaptive filter.1985: In 1985, Terry Sejnowski and Charles Rosenberg invented a neural network NETtalk, which was able to teach itself how to correctly pronounce 20,000 words in one week.1997: The IBM\\'s Deep blue intelligent computer won the chess game against the chess expert Garry Kasparov, and it became the first computer which had beaten a human chess expert.Machine Learning at 21st century2006:Geoffrey Hinton and his group presented the idea of profound getting the hang of utilizing profound conviction organizations.The Elastic Compute Cloud (EC2) was launched by Amazon to provide scalable computing resources that made it easier to create and implement machine learning models.2007:Participants were tasked with increasing the accuracy of Netflix\\'s recommendation algorithm when the Netflix Prize competition began.Support learning made critical progress when a group of specialists utilized it to prepare a PC to play backgammon at a top-notch level.2008:Google delivered the Google Forecast Programming interface, a cloud-based help that permitted designers to integrate AI into their applications.Confined Boltzmann Machines (RBMs), a kind of generative brain organization, acquired consideration for their capacity to demonstrate complex information conveyances.2009:Profound learning gained ground as analysts showed its viability in different errands, including discourse acknowledgment and picture grouping.The expression \"Large Information\" acquired ubiquity, featuring the difficulties and open doors related with taking care of huge datasets.2010:The ImageNet Huge Scope Visual Acknowledgment Challenge (ILSVRC) was presented, driving progressions in PC vision, and prompting the advancement of profound convolutional brain organizations (CNNs).2011:On Jeopardy! IBM\\'s Watson defeated human champions., demonstrating the potential of question-answering systems and natural language processing.2012:AlexNet, a profound CNN created by Alex Krizhevsky, won the ILSVRC, fundamentally further developing picture order precision and laying out profound advancing as a predominant methodology in PC vision.Google\\'s Cerebrum project, drove by Andrew Ng and Jeff Dignitary, utilized profound figuring out how to prepare a brain organization to perceive felines from unlabeled YouTube recordings.2013:Ian Goodfellow introduced generative adversarial networks (GANs), which made it possible to create realistic synthetic data.Google later acquired the startup DeepMind Technologies, which focused on deep learning and artificial intelligence.2014:Facebook presented the DeepFace framework, which accomplished close human precision in facial acknowledgment.AlphaGo, a program created by DeepMind at Google, defeated a world champion Go player and demonstrated the potential of reinforcement learning in challenging games.2015:Microsoft delivered the Mental Toolbox (previously known as CNTK), an open-source profound learning library.The performance of sequence-to-sequence models in tasks like machine translation was enhanced by the introduction of the idea of attention mechanisms.2016:The goal of explainable AI, which focuses on making machine learning models easier to understand, received some attention.Google\\'s DeepMind created AlphaGo Zero, which accomplished godlike Go abilities to play without human information, utilizing just support learning.2017:Move learning acquired noticeable quality, permitting pretrained models to be utilized for different errands with restricted information.Better synthesis and generation of complex data were made possible by the introduction of generative models like variational autoencoders (VAEs) and Wasserstein GANs.These are only a portion of the eminent headways and achievements in AI during the predefined period. The field kept on advancing quickly past 2017, with new leap forwards, strategies, and applications arising.Machine Learning at present:The field of machine learning has made significant strides in recent years, and its applications are numerous, including self-driving cars, Amazon Alexa, Catboats, and the recommender system. It incorporates clustering, classification, decision tree, SVM algorithms, and reinforcement learning, as well as unsupervised and supervised learning.Present day AI models can be utilized for making different expectations, including climate expectation, sickness forecast, financial exchange examination, and so on.PrerequisitesBefore learning machine learning, you must have the basic knowledge of followings so that you can easily understand the concepts of machine learning:Fundamental knowledge of probability and linear algebra.The ability to code in any computer language, especially in Python language.Knowledge of Calculus, especially derivatives of single variable and multivariate functions.AudienceOur Machine learning tutorial is designed to help beginner and professionals.ProblemsWe assure you that you will not find any difficulty while learning our Machine learning tutorial. But if there is any mistake in this tutorial, kindly post the problem or error in the contact form so that we can improve it.Next TopicApplications of Machine Learning\\xa0next →\\xa0Learn Important TutorialPythonJavaJavascriptHTMLDatabasePHPC++ReactB.Tech / MCADBMSData StructuresDAAOperating SystemComputer NetworkCompiler DesignComputer OrganizationDiscrete MathematicsEthical HackingComputer GraphicsWeb TechnologySoftware EngineeringCyber SecurityAutomataC ProgrammingC++Java.NetPythonProgramsControl SystemData WarehousePreparationAptitudeReasoningVerbal AbilityInterview QuestionsCompany QuestionsWe provides tutorials and interview questions of all technology like java tutorial, android, java frameworksContact info G-13, 2nd Floor, Sec-3, Noida, UP, 201301, India[email\\xa0protected].Follow usLatest PostPRIVACY POLICYTutorialsJava Data Structures C Programming C++ Tutorial C# Tutorial PHP Tutorial HTML Tutorial JavaScript Tutorial jQuery Tutorial Spring TutorialInterview QuestionsTcs Intuit Wipro Adobe Infosys Amazon Accenture Cognizant Capgemini MicrosoftOnline CompilerC R C++ Php Java Html Swift Python JavaScript TypeScript© Copyright 2024 Javatpoint. All Rights Reserved.')]"
      ]
     },
     "execution_count": 69,
     "metadata": {},
     "output_type": "execute_result"
    }
   ],
   "source": [
    "doc"
   ]
  },
  {
   "cell_type": "code",
   "execution_count": 84,
   "metadata": {},
   "outputs": [],
   "source": [
    "from langchain_text_splitters import RecursiveCharacterTextSplitter\n",
    "\n",
    "splitter=RecursiveCharacterTextSplitter(chunk_size=500,chunk_overlap=100)"
   ]
  },
  {
   "cell_type": "code",
   "execution_count": 85,
   "metadata": {},
   "outputs": [
    {
     "data": {
      "text/plain": [
       "[Document(metadata={'source': 'https://www.javatpoint.com/machine-learning', 'title': 'Machine Learning Tutorial', 'description': ' Machine Learning: What It is, Tutorial, Definition, Types with Machine Learning, Machine Learning Tutorial, Machine Learning Introduction, What is Machine Learning, Data Machine Learning, Applications of Machine Learning, Machine Learning vs Artificial Intelligence, dimensionality reduction, deep learning, etc.', 'language': 'en'}, page_content='Machine Learning TutorialTutorials×PythonPython Django Numpy Pandas Tkinter Pytorch Flask OpenCVAI, ML and Data ScienceArtificial Intelligence Machine Learning Data Science Deep Learning TensorFlow Artificial Neural Network Matplotlib Python ScipyJavaJava Servlet JSP Spring Boot Spring Framework Hibernate JavaFX Java Web ServicesB.Tech and MCADBMS Data Structures Operating System Computer Network DAA Computer Organization Software Engineering Data MiningWeb TechnologyHTML CSS JavaScript Jquery'),\n",
       " Document(metadata={'source': 'https://www.javatpoint.com/machine-learning', 'title': 'Machine Learning Tutorial', 'description': ' Machine Learning: What It is, Tutorial, Definition, Types with Machine Learning, Machine Learning Tutorial, Machine Learning Introduction, What is Machine Learning, Data Machine Learning, Applications of Machine Learning, Machine Learning vs Artificial Intelligence, dimensionality reduction, deep learning, etc.', 'language': 'en'}, page_content='DAA Computer Organization Software Engineering Data MiningWeb TechnologyHTML CSS JavaScript Jquery Angular-8 React JS React Native Node JSSoftware TestingSoftware Testing Selenium JIRA JMeter Postman TestNG SoapUI CucumberInterview×Technical InterviewC C++ Php Java Python JavaScript TypeScriptJava InterviewJDBC Servlet Maven Jenkins Spring Spring Boot JDB Hibernate JSFWeb InterviewHTML CSS JavaScript Jquery Angular Node-JS AJAXDatabase InterviewDBMS SQL PL/SQL Oracle MySQL MongoDB Redis'),\n",
       " Document(metadata={'source': 'https://www.javatpoint.com/machine-learning', 'title': 'Machine Learning Tutorial', 'description': ' Machine Learning: What It is, Tutorial, Definition, Types with Machine Learning, Machine Learning Tutorial, Machine Learning Introduction, What is Machine Learning, Data Machine Learning, Applications of Machine Learning, Machine Learning vs Artificial Intelligence, dimensionality reduction, deep learning, etc.', 'language': 'en'}, page_content='JavaScript Jquery Angular Node-JS AJAXDatabase InterviewDBMS SQL PL/SQL Oracle MySQL MongoDB Redis MariaDBCompany InterviewsIBM Adobe Microsoft Amazon TCS HCL Wipro DXC Accenture Capgemini Space X Ericsson Infosy IGate EXL IndiaMART SapientCompilerPythonJavaPhpCC++RHtmlJavascriptTypescriptSwiftHome Python Java JavaScriptHTML SQL PHP C# C++ DS Aptitude Reasoning Selenium DBMS C Andriod Interview QReinforcement LearningReinforcement Learning TutorialRelated TutorialsMachine Learning'),\n",
       " Document(metadata={'source': 'https://www.javatpoint.com/machine-learning', 'title': 'Machine Learning Tutorial', 'description': ' Machine Learning: What It is, Tutorial, Definition, Types with Machine Learning, Machine Learning Tutorial, Machine Learning Introduction, What is Machine Learning, Data Machine Learning, Applications of Machine Learning, Machine Learning vs Artificial Intelligence, dimensionality reduction, deep learning, etc.', 'language': 'en'}, page_content='Interview QReinforcement LearningReinforcement Learning TutorialRelated TutorialsMachine Learning TutorialArtificial Intelligence TutorialNLP TutorialTensorflow TutorialPyTorch TutorialData Science Tutorialnext →Machine Learning TutorialThe Machine Learning Tutorial covers both the fundamentals and more complex ideas of machine learning. Students and professionals in the workforce can benefit from our machine learning tutorial.A rapidly developing field of technology, machine learning allows'),\n",
       " Document(metadata={'source': 'https://www.javatpoint.com/machine-learning', 'title': 'Machine Learning Tutorial', 'description': ' Machine Learning: What It is, Tutorial, Definition, Types with Machine Learning, Machine Learning Tutorial, Machine Learning Introduction, What is Machine Learning, Data Machine Learning, Applications of Machine Learning, Machine Learning vs Artificial Intelligence, dimensionality reduction, deep learning, etc.', 'language': 'en'}, page_content='our machine learning tutorial.A rapidly developing field of technology, machine learning allows computers to automatically learn from previous data. For building mathematical models and making predictions based on historical data or information, machine learning employs a variety of algorithms. It is currently being used for a variety of tasks, including speech recognition, email filtering, auto-tagging on Facebook, a recommender system, and image recognition.You will learn about the many'),\n",
       " Document(metadata={'source': 'https://www.javatpoint.com/machine-learning', 'title': 'Machine Learning Tutorial', 'description': ' Machine Learning: What It is, Tutorial, Definition, Types with Machine Learning, Machine Learning Tutorial, Machine Learning Introduction, What is Machine Learning, Data Machine Learning, Applications of Machine Learning, Machine Learning vs Artificial Intelligence, dimensionality reduction, deep learning, etc.', 'language': 'en'}, page_content='auto-tagging on Facebook, a recommender system, and image recognition.You will learn about the many different methods of machine learning, including reinforcement learning, supervised learning, and unsupervised learning, in this machine learning tutorial. Regression and classification models, clustering techniques, hidden Markov models, and various sequential models will all be covered.What is Machine LearningIn the real world, we are surrounded by humans who can learn everything from their'),\n",
       " Document(metadata={'source': 'https://www.javatpoint.com/machine-learning', 'title': 'Machine Learning Tutorial', 'description': ' Machine Learning: What It is, Tutorial, Definition, Types with Machine Learning, Machine Learning Tutorial, Machine Learning Introduction, What is Machine Learning, Data Machine Learning, Applications of Machine Learning, Machine Learning vs Artificial Intelligence, dimensionality reduction, deep learning, etc.', 'language': 'en'}, page_content='Machine LearningIn the real world, we are surrounded by humans who can learn everything from their experiences with their learning capability, and we have computers or machines which work on our instructions. But can a machine also learn from experiences or past data like a human does? So here comes the role of Machine Learning.Introduction to Machine LearningA subset of artificial intelligence known as machine learning focuses primarily on the creation of algorithms that enable a computer to'),\n",
       " Document(metadata={'source': 'https://www.javatpoint.com/machine-learning', 'title': 'Machine Learning Tutorial', 'description': ' Machine Learning: What It is, Tutorial, Definition, Types with Machine Learning, Machine Learning Tutorial, Machine Learning Introduction, What is Machine Learning, Data Machine Learning, Applications of Machine Learning, Machine Learning vs Artificial Intelligence, dimensionality reduction, deep learning, etc.', 'language': 'en'}, page_content='known as machine learning focuses primarily on the creation of algorithms that enable a computer to independently learn from data and previous experiences. Arthur Samuel first used the term \"machine learning\" in 1959. It could be summarized as follows:Without being explicitly programmed, machine learning enables a machine to automatically learn from data, improve performance from experiences, and predict things.Machine learning algorithms create a mathematical model that, without being'),\n",
       " Document(metadata={'source': 'https://www.javatpoint.com/machine-learning', 'title': 'Machine Learning Tutorial', 'description': ' Machine Learning: What It is, Tutorial, Definition, Types with Machine Learning, Machine Learning Tutorial, Machine Learning Introduction, What is Machine Learning, Data Machine Learning, Applications of Machine Learning, Machine Learning vs Artificial Intelligence, dimensionality reduction, deep learning, etc.', 'language': 'en'}, page_content='and predict things.Machine learning algorithms create a mathematical model that, without being explicitly programmed, aids in making predictions or decisions with the assistance of sample historical data, or training data. For the purpose of developing predictive models, machine learning brings together statistics and computer science. Algorithms that learn from historical data are either constructed or utilized in machine learning. The performance will rise in proportion to the quantity of'),\n",
       " Document(metadata={'source': 'https://www.javatpoint.com/machine-learning', 'title': 'Machine Learning Tutorial', 'description': ' Machine Learning: What It is, Tutorial, Definition, Types with Machine Learning, Machine Learning Tutorial, Machine Learning Introduction, What is Machine Learning, Data Machine Learning, Applications of Machine Learning, Machine Learning vs Artificial Intelligence, dimensionality reduction, deep learning, etc.', 'language': 'en'}, page_content='or utilized in machine learning. The performance will rise in proportion to the quantity of information we provide.A machine can learn if it can gain more data to improve its performance.How does Machine Learning workA machine learning system builds prediction models, learns from previous data, and predicts the output of new data whenever it receives it. The amount of data helps to build a better model that accurately predicts the output, which in turn affects the accuracy of the predicted'),\n",
       " Document(metadata={'source': 'https://www.javatpoint.com/machine-learning', 'title': 'Machine Learning Tutorial', 'description': ' Machine Learning: What It is, Tutorial, Definition, Types with Machine Learning, Machine Learning Tutorial, Machine Learning Introduction, What is Machine Learning, Data Machine Learning, Applications of Machine Learning, Machine Learning vs Artificial Intelligence, dimensionality reduction, deep learning, etc.', 'language': 'en'}, page_content=\"model that accurately predicts the output, which in turn affects the accuracy of the predicted output.Let's say we have a complex problem in which we need to make predictions. Instead of writing code, we just need to feed the data to generic algorithms, which build the logic based on the data and predict the output. Our perspective on the issue has changed as a result of machine learning. The Machine Learning algorithm's operation is depicted in the following block diagram:Features of Machine\"),\n",
       " Document(metadata={'source': 'https://www.javatpoint.com/machine-learning', 'title': 'Machine Learning Tutorial', 'description': ' Machine Learning: What It is, Tutorial, Definition, Types with Machine Learning, Machine Learning Tutorial, Machine Learning Introduction, What is Machine Learning, Data Machine Learning, Applications of Machine Learning, Machine Learning vs Artificial Intelligence, dimensionality reduction, deep learning, etc.', 'language': 'en'}, page_content=\"Learning algorithm's operation is depicted in the following block diagram:Features of Machine Learning:Machine learning uses data to detect various patterns in a given dataset.It can learn from past data and improve automatically.It is a data-driven technology.Machine learning is much similar to data mining as it also deals with the huge amount of the data.Need for Machine LearningThe demand for machine learning is steadily rising. Because it is able to perform tasks that are too complex for a\"),\n",
       " Document(metadata={'source': 'https://www.javatpoint.com/machine-learning', 'title': 'Machine Learning Tutorial', 'description': ' Machine Learning: What It is, Tutorial, Definition, Types with Machine Learning, Machine Learning Tutorial, Machine Learning Introduction, What is Machine Learning, Data Machine Learning, Applications of Machine Learning, Machine Learning vs Artificial Intelligence, dimensionality reduction, deep learning, etc.', 'language': 'en'}, page_content='machine learning is steadily rising. Because it is able to perform tasks that are too complex for a person to directly implement, machine learning is required. Humans are constrained by our inability to manually access vast amounts of data; as a result, we require computer systems, which is where machine learning comes in to simplify our lives.By providing them with a large amount of data and allowing them to automatically explore the data, build models, and predict the required output, we can'),\n",
       " Document(metadata={'source': 'https://www.javatpoint.com/machine-learning', 'title': 'Machine Learning Tutorial', 'description': ' Machine Learning: What It is, Tutorial, Definition, Types with Machine Learning, Machine Learning Tutorial, Machine Learning Introduction, What is Machine Learning, Data Machine Learning, Applications of Machine Learning, Machine Learning vs Artificial Intelligence, dimensionality reduction, deep learning, etc.', 'language': 'en'}, page_content=\"them to automatically explore the data, build models, and predict the required output, we can train machine learning algorithms. The cost function can be used to determine the amount of data and the machine learning algorithm's performance. We can save both time and money by using machine learning.The significance of AI can be handily perceived by its utilization's cases, Presently, AI is utilized in self-driving vehicles, digital misrepresentation identification, face acknowledgment, and\"),\n",
       " Document(metadata={'source': 'https://www.javatpoint.com/machine-learning', 'title': 'Machine Learning Tutorial', 'description': ' Machine Learning: What It is, Tutorial, Definition, Types with Machine Learning, Machine Learning Tutorial, Machine Learning Introduction, What is Machine Learning, Data Machine Learning, Applications of Machine Learning, Machine Learning vs Artificial Intelligence, dimensionality reduction, deep learning, etc.', 'language': 'en'}, page_content='in self-driving vehicles, digital misrepresentation identification, face acknowledgment, and companion idea by Facebook, and so on. Different top organizations, for example, Netflix and Amazon have constructed AI models that are utilizing an immense measure of information to examine the client interest and suggest item likewise.Following are some key points which show the importance of Machine Learning:Rapid increment in the production of dataSolving complex problems, which are difficult for a'),\n",
       " Document(metadata={'source': 'https://www.javatpoint.com/machine-learning', 'title': 'Machine Learning Tutorial', 'description': ' Machine Learning: What It is, Tutorial, Definition, Types with Machine Learning, Machine Learning Tutorial, Machine Learning Introduction, What is Machine Learning, Data Machine Learning, Applications of Machine Learning, Machine Learning vs Artificial Intelligence, dimensionality reduction, deep learning, etc.', 'language': 'en'}, page_content='increment in the production of dataSolving complex problems, which are difficult for a humanDecision making in various sector including financeFinding hidden patterns and extracting useful information from data.Classification of Machine LearningAt a broad level, machine learning can be classified into three types:Supervised learningUnsupervised learningReinforcement learning1) Supervised LearningIn supervised learning, sample labeled data are provided to the machine learning system for'),\n",
       " Document(metadata={'source': 'https://www.javatpoint.com/machine-learning', 'title': 'Machine Learning Tutorial', 'description': ' Machine Learning: What It is, Tutorial, Definition, Types with Machine Learning, Machine Learning Tutorial, Machine Learning Introduction, What is Machine Learning, Data Machine Learning, Applications of Machine Learning, Machine Learning vs Artificial Intelligence, dimensionality reduction, deep learning, etc.', 'language': 'en'}, page_content='LearningIn supervised learning, sample labeled data are provided to the machine learning system for training, and the system then predicts the output based on the training data.The system uses labeled data to build a model that understands the datasets and learns about each one. After the training and processing are done, we test the model with sample data to see if it can accurately predict the output.The mapping of the input data to the output data is the objective of supervised learning. The'),\n",
       " Document(metadata={'source': 'https://www.javatpoint.com/machine-learning', 'title': 'Machine Learning Tutorial', 'description': ' Machine Learning: What It is, Tutorial, Definition, Types with Machine Learning, Machine Learning Tutorial, Machine Learning Introduction, What is Machine Learning, Data Machine Learning, Applications of Machine Learning, Machine Learning vs Artificial Intelligence, dimensionality reduction, deep learning, etc.', 'language': 'en'}, page_content='mapping of the input data to the output data is the objective of supervised learning. The managed learning depends on oversight, and it is equivalent to when an understudy learns things in the management of the educator. Spam filtering is an example of supervised learning.Supervised learning can be grouped further in two categories of algorithms:ClassificationRegression2) Unsupervised LearningUnsupervised learning is a learning method in which a machine learns without any supervision.The'),\n",
       " Document(metadata={'source': 'https://www.javatpoint.com/machine-learning', 'title': 'Machine Learning Tutorial', 'description': ' Machine Learning: What It is, Tutorial, Definition, Types with Machine Learning, Machine Learning Tutorial, Machine Learning Introduction, What is Machine Learning, Data Machine Learning, Applications of Machine Learning, Machine Learning vs Artificial Intelligence, dimensionality reduction, deep learning, etc.', 'language': 'en'}, page_content=\"learning is a learning method in which a machine learns without any supervision.The training is provided to the machine with the set of data that has not been labeled, classified, or categorized, and the algorithm needs to act on that data without any supervision. The goal of unsupervised learning is to restructure the input data into new features or a group of objects with similar patterns.In unsupervised learning, we don't have a predetermined result. The machine tries to find useful insights\"),\n",
       " Document(metadata={'source': 'https://www.javatpoint.com/machine-learning', 'title': 'Machine Learning Tutorial', 'description': ' Machine Learning: What It is, Tutorial, Definition, Types with Machine Learning, Machine Learning Tutorial, Machine Learning Introduction, What is Machine Learning, Data Machine Learning, Applications of Machine Learning, Machine Learning vs Artificial Intelligence, dimensionality reduction, deep learning, etc.', 'language': 'en'}, page_content=\"learning, we don't have a predetermined result. The machine tries to find useful insights from the huge amount of data. It can be further classifieds into two categories of algorithms:ClusteringAssociation3) Reinforcement LearningReinforcement learning is a feedback-based learning method, in which a learning agent gets a reward for each right action and gets a penalty for each wrong action. The agent learns automatically with these feedbacks and improves its performance. In reinforcement\"),\n",
       " Document(metadata={'source': 'https://www.javatpoint.com/machine-learning', 'title': 'Machine Learning Tutorial', 'description': ' Machine Learning: What It is, Tutorial, Definition, Types with Machine Learning, Machine Learning Tutorial, Machine Learning Introduction, What is Machine Learning, Data Machine Learning, Applications of Machine Learning, Machine Learning vs Artificial Intelligence, dimensionality reduction, deep learning, etc.', 'language': 'en'}, page_content='The agent learns automatically with these feedbacks and improves its performance. In reinforcement learning, the agent interacts with the environment and explores it. The goal of an agent is to get the most reward points, and hence, it improves its performance.The robotic dog, which automatically learns the movement of his arms, is an example of Reinforcement learning.Note: We will learn about the above types of machine learning in detail in later chapters.History of Machine LearningBefore some'),\n",
       " Document(metadata={'source': 'https://www.javatpoint.com/machine-learning', 'title': 'Machine Learning Tutorial', 'description': ' Machine Learning: What It is, Tutorial, Definition, Types with Machine Learning, Machine Learning Tutorial, Machine Learning Introduction, What is Machine Learning, Data Machine Learning, Applications of Machine Learning, Machine Learning vs Artificial Intelligence, dimensionality reduction, deep learning, etc.', 'language': 'en'}, page_content='above types of machine learning in detail in later chapters.History of Machine LearningBefore some years (about 40-50 years), machine learning was science fiction, but today it is the part of our daily life. Machine learning is making our day to day life easy from self-driving cars to Amazon virtual assistant \"Alexa\". However, the idea behind machine learning is so old and has a long history. Below some milestones are given which have occurred in the history of machine learning:The early'),\n",
       " Document(metadata={'source': 'https://www.javatpoint.com/machine-learning', 'title': 'Machine Learning Tutorial', 'description': ' Machine Learning: What It is, Tutorial, Definition, Types with Machine Learning, Machine Learning Tutorial, Machine Learning Introduction, What is Machine Learning, Data Machine Learning, Applications of Machine Learning, Machine Learning vs Artificial Intelligence, dimensionality reduction, deep learning, etc.', 'language': 'en'}, page_content='Below some milestones are given which have occurred in the history of machine learning:The early history of Machine Learning (Pre-1940):1834: In 1834, Charles Babbage, the father of the computer, conceived a device that could be programmed with punch cards. However, the machine was never built, but all modern computers rely on its logical structure.1936: In 1936, Alan Turing gave a theory that how a machine can determine and execute a set of instructions.The era of stored program'),\n",
       " Document(metadata={'source': 'https://www.javatpoint.com/machine-learning', 'title': 'Machine Learning Tutorial', 'description': ' Machine Learning: What It is, Tutorial, Definition, Types with Machine Learning, Machine Learning Tutorial, Machine Learning Introduction, What is Machine Learning, Data Machine Learning, Applications of Machine Learning, Machine Learning vs Artificial Intelligence, dimensionality reduction, deep learning, etc.', 'language': 'en'}, page_content='theory that how a machine can determine and execute a set of instructions.The era of stored program computers:1940: In 1940, the first manually operated computer, \"ENIAC\" was invented, which was the first electronic general-purpose computer. After that stored program computer such as EDSAC in 1949 and EDVAC in 1951 were invented.1943: In 1943, a human neural network was modeled with an electrical circuit. In 1950, the scientists started applying their idea to work and analyzed how human neurons'),\n",
       " Document(metadata={'source': 'https://www.javatpoint.com/machine-learning', 'title': 'Machine Learning Tutorial', 'description': ' Machine Learning: What It is, Tutorial, Definition, Types with Machine Learning, Machine Learning Tutorial, Machine Learning Introduction, What is Machine Learning, Data Machine Learning, Applications of Machine Learning, Machine Learning vs Artificial Intelligence, dimensionality reduction, deep learning, etc.', 'language': 'en'}, page_content='circuit. In 1950, the scientists started applying their idea to work and analyzed how human neurons might work.Computer machinery and intelligence:1950: In 1950, Alan Turing published a seminal paper, \"Computer Machinery and Intelligence,\" on the topic of artificial intelligence. In his paper, he asked, \"Can machines think?\"Machine intelligence in Games:1952: Arthur Samuel, who was the pioneer of machine learning, created a program that helped an IBM computer to play a checkers game. It'),\n",
       " Document(metadata={'source': 'https://www.javatpoint.com/machine-learning', 'title': 'Machine Learning Tutorial', 'description': ' Machine Learning: What It is, Tutorial, Definition, Types with Machine Learning, Machine Learning Tutorial, Machine Learning Introduction, What is Machine Learning, Data Machine Learning, Applications of Machine Learning, Machine Learning vs Artificial Intelligence, dimensionality reduction, deep learning, etc.', 'language': 'en'}, page_content='of machine learning, created a program that helped an IBM computer to play a checkers game. It performed better more it played.1959: In 1959, the term \"Machine Learning\" was first coined by Arthur Samuel.The first \"AI\" winter:The duration of 1974 to 1980 was the tough time for AI and ML researchers, and this duration was called as AI winter.In this duration, failure of machine translation occurred, and people had reduced their interest from AI, which led to reduced funding by the government to'),\n",
       " Document(metadata={'source': 'https://www.javatpoint.com/machine-learning', 'title': 'Machine Learning Tutorial', 'description': ' Machine Learning: What It is, Tutorial, Definition, Types with Machine Learning, Machine Learning Tutorial, Machine Learning Introduction, What is Machine Learning, Data Machine Learning, Applications of Machine Learning, Machine Learning vs Artificial Intelligence, dimensionality reduction, deep learning, etc.', 'language': 'en'}, page_content=\"and people had reduced their interest from AI, which led to reduced funding by the government to the researches.Machine Learning from theory to reality1959: In 1959, the first neural network was applied to a real-world problem to remove echoes over phone lines using an adaptive filter.1985: In 1985, Terry Sejnowski and Charles Rosenberg invented a neural network NETtalk, which was able to teach itself how to correctly pronounce 20,000 words in one week.1997: The IBM's Deep blue intelligent\"),\n",
       " Document(metadata={'source': 'https://www.javatpoint.com/machine-learning', 'title': 'Machine Learning Tutorial', 'description': ' Machine Learning: What It is, Tutorial, Definition, Types with Machine Learning, Machine Learning Tutorial, Machine Learning Introduction, What is Machine Learning, Data Machine Learning, Applications of Machine Learning, Machine Learning vs Artificial Intelligence, dimensionality reduction, deep learning, etc.', 'language': 'en'}, page_content=\"itself how to correctly pronounce 20,000 words in one week.1997: The IBM's Deep blue intelligent computer won the chess game against the chess expert Garry Kasparov, and it became the first computer which had beaten a human chess expert.Machine Learning at 21st century2006:Geoffrey Hinton and his group presented the idea of profound getting the hang of utilizing profound conviction organizations.The Elastic Compute Cloud (EC2) was launched by Amazon to provide scalable computing resources that\"),\n",
       " Document(metadata={'source': 'https://www.javatpoint.com/machine-learning', 'title': 'Machine Learning Tutorial', 'description': ' Machine Learning: What It is, Tutorial, Definition, Types with Machine Learning, Machine Learning Tutorial, Machine Learning Introduction, What is Machine Learning, Data Machine Learning, Applications of Machine Learning, Machine Learning vs Artificial Intelligence, dimensionality reduction, deep learning, etc.', 'language': 'en'}, page_content=\"Elastic Compute Cloud (EC2) was launched by Amazon to provide scalable computing resources that made it easier to create and implement machine learning models.2007:Participants were tasked with increasing the accuracy of Netflix's recommendation algorithm when the Netflix Prize competition began.Support learning made critical progress when a group of specialists utilized it to prepare a PC to play backgammon at a top-notch level.2008:Google delivered the Google Forecast Programming interface, a\"),\n",
       " Document(metadata={'source': 'https://www.javatpoint.com/machine-learning', 'title': 'Machine Learning Tutorial', 'description': ' Machine Learning: What It is, Tutorial, Definition, Types with Machine Learning, Machine Learning Tutorial, Machine Learning Introduction, What is Machine Learning, Data Machine Learning, Applications of Machine Learning, Machine Learning vs Artificial Intelligence, dimensionality reduction, deep learning, etc.', 'language': 'en'}, page_content='backgammon at a top-notch level.2008:Google delivered the Google Forecast Programming interface, a cloud-based help that permitted designers to integrate AI into their applications.Confined Boltzmann Machines (RBMs), a kind of generative brain organization, acquired consideration for their capacity to demonstrate complex information conveyances.2009:Profound learning gained ground as analysts showed its viability in different errands, including discourse acknowledgment and picture grouping.The'),\n",
       " Document(metadata={'source': 'https://www.javatpoint.com/machine-learning', 'title': 'Machine Learning Tutorial', 'description': ' Machine Learning: What It is, Tutorial, Definition, Types with Machine Learning, Machine Learning Tutorial, Machine Learning Introduction, What is Machine Learning, Data Machine Learning, Applications of Machine Learning, Machine Learning vs Artificial Intelligence, dimensionality reduction, deep learning, etc.', 'language': 'en'}, page_content='its viability in different errands, including discourse acknowledgment and picture grouping.The expression \"Large Information\" acquired ubiquity, featuring the difficulties and open doors related with taking care of huge datasets.2010:The ImageNet Huge Scope Visual Acknowledgment Challenge (ILSVRC) was presented, driving progressions in PC vision, and prompting the advancement of profound convolutional brain organizations (CNNs).2011:On Jeopardy! IBM\\'s Watson defeated human champions.,'),\n",
       " Document(metadata={'source': 'https://www.javatpoint.com/machine-learning', 'title': 'Machine Learning Tutorial', 'description': ' Machine Learning: What It is, Tutorial, Definition, Types with Machine Learning, Machine Learning Tutorial, Machine Learning Introduction, What is Machine Learning, Data Machine Learning, Applications of Machine Learning, Machine Learning vs Artificial Intelligence, dimensionality reduction, deep learning, etc.', 'language': 'en'}, page_content=\"convolutional brain organizations (CNNs).2011:On Jeopardy! IBM's Watson defeated human champions., demonstrating the potential of question-answering systems and natural language processing.2012:AlexNet, a profound CNN created by Alex Krizhevsky, won the ILSVRC, fundamentally further developing picture order precision and laying out profound advancing as a predominant methodology in PC vision.Google's Cerebrum project, drove by Andrew Ng and Jeff Dignitary, utilized profound figuring out how to\"),\n",
       " Document(metadata={'source': 'https://www.javatpoint.com/machine-learning', 'title': 'Machine Learning Tutorial', 'description': ' Machine Learning: What It is, Tutorial, Definition, Types with Machine Learning, Machine Learning Tutorial, Machine Learning Introduction, What is Machine Learning, Data Machine Learning, Applications of Machine Learning, Machine Learning vs Artificial Intelligence, dimensionality reduction, deep learning, etc.', 'language': 'en'}, page_content='Cerebrum project, drove by Andrew Ng and Jeff Dignitary, utilized profound figuring out how to prepare a brain organization to perceive felines from unlabeled YouTube recordings.2013:Ian Goodfellow introduced generative adversarial networks (GANs), which made it possible to create realistic synthetic data.Google later acquired the startup DeepMind Technologies, which focused on deep learning and artificial intelligence.2014:Facebook presented the DeepFace framework, which accomplished close'),\n",
       " Document(metadata={'source': 'https://www.javatpoint.com/machine-learning', 'title': 'Machine Learning Tutorial', 'description': ' Machine Learning: What It is, Tutorial, Definition, Types with Machine Learning, Machine Learning Tutorial, Machine Learning Introduction, What is Machine Learning, Data Machine Learning, Applications of Machine Learning, Machine Learning vs Artificial Intelligence, dimensionality reduction, deep learning, etc.', 'language': 'en'}, page_content='artificial intelligence.2014:Facebook presented the DeepFace framework, which accomplished close human precision in facial acknowledgment.AlphaGo, a program created by DeepMind at Google, defeated a world champion Go player and demonstrated the potential of reinforcement learning in challenging games.2015:Microsoft delivered the Mental Toolbox (previously known as CNTK), an open-source profound learning library.The performance of sequence-to-sequence models in tasks like machine translation was'),\n",
       " Document(metadata={'source': 'https://www.javatpoint.com/machine-learning', 'title': 'Machine Learning Tutorial', 'description': ' Machine Learning: What It is, Tutorial, Definition, Types with Machine Learning, Machine Learning Tutorial, Machine Learning Introduction, What is Machine Learning, Data Machine Learning, Applications of Machine Learning, Machine Learning vs Artificial Intelligence, dimensionality reduction, deep learning, etc.', 'language': 'en'}, page_content=\"library.The performance of sequence-to-sequence models in tasks like machine translation was enhanced by the introduction of the idea of attention mechanisms.2016:The goal of explainable AI, which focuses on making machine learning models easier to understand, received some attention.Google's DeepMind created AlphaGo Zero, which accomplished godlike Go abilities to play without human information, utilizing just support learning.2017:Move learning acquired noticeable quality, permitting\"),\n",
       " Document(metadata={'source': 'https://www.javatpoint.com/machine-learning', 'title': 'Machine Learning Tutorial', 'description': ' Machine Learning: What It is, Tutorial, Definition, Types with Machine Learning, Machine Learning Tutorial, Machine Learning Introduction, What is Machine Learning, Data Machine Learning, Applications of Machine Learning, Machine Learning vs Artificial Intelligence, dimensionality reduction, deep learning, etc.', 'language': 'en'}, page_content='utilizing just support learning.2017:Move learning acquired noticeable quality, permitting pretrained models to be utilized for different errands with restricted information.Better synthesis and generation of complex data were made possible by the introduction of generative models like variational autoencoders (VAEs) and Wasserstein GANs.These are only a portion of the eminent headways and achievements in AI during the predefined period. The field kept on advancing quickly past 2017, with new'),\n",
       " Document(metadata={'source': 'https://www.javatpoint.com/machine-learning', 'title': 'Machine Learning Tutorial', 'description': ' Machine Learning: What It is, Tutorial, Definition, Types with Machine Learning, Machine Learning Tutorial, Machine Learning Introduction, What is Machine Learning, Data Machine Learning, Applications of Machine Learning, Machine Learning vs Artificial Intelligence, dimensionality reduction, deep learning, etc.', 'language': 'en'}, page_content='in AI during the predefined period. The field kept on advancing quickly past 2017, with new leap forwards, strategies, and applications arising.Machine Learning at present:The field of machine learning has made significant strides in recent years, and its applications are numerous, including self-driving cars, Amazon Alexa, Catboats, and the recommender system. It incorporates clustering, classification, decision tree, SVM algorithms, and reinforcement learning, as well as unsupervised and'),\n",
       " Document(metadata={'source': 'https://www.javatpoint.com/machine-learning', 'title': 'Machine Learning Tutorial', 'description': ' Machine Learning: What It is, Tutorial, Definition, Types with Machine Learning, Machine Learning Tutorial, Machine Learning Introduction, What is Machine Learning, Data Machine Learning, Applications of Machine Learning, Machine Learning vs Artificial Intelligence, dimensionality reduction, deep learning, etc.', 'language': 'en'}, page_content='decision tree, SVM algorithms, and reinforcement learning, as well as unsupervised and supervised learning.Present day AI models can be utilized for making different expectations, including climate expectation, sickness forecast, financial exchange examination, and so on.PrerequisitesBefore learning machine learning, you must have the basic knowledge of followings so that you can easily understand the concepts of machine learning:Fundamental knowledge of probability and linear algebra.The'),\n",
       " Document(metadata={'source': 'https://www.javatpoint.com/machine-learning', 'title': 'Machine Learning Tutorial', 'description': ' Machine Learning: What It is, Tutorial, Definition, Types with Machine Learning, Machine Learning Tutorial, Machine Learning Introduction, What is Machine Learning, Data Machine Learning, Applications of Machine Learning, Machine Learning vs Artificial Intelligence, dimensionality reduction, deep learning, etc.', 'language': 'en'}, page_content='the concepts of machine learning:Fundamental knowledge of probability and linear algebra.The ability to code in any computer language, especially in Python language.Knowledge of Calculus, especially derivatives of single variable and multivariate functions.AudienceOur Machine learning tutorial is designed to help beginner and professionals.ProblemsWe assure you that you will not find any difficulty while learning our Machine learning tutorial. But if there is any mistake in this tutorial,'),\n",
       " Document(metadata={'source': 'https://www.javatpoint.com/machine-learning', 'title': 'Machine Learning Tutorial', 'description': ' Machine Learning: What It is, Tutorial, Definition, Types with Machine Learning, Machine Learning Tutorial, Machine Learning Introduction, What is Machine Learning, Data Machine Learning, Applications of Machine Learning, Machine Learning vs Artificial Intelligence, dimensionality reduction, deep learning, etc.', 'language': 'en'}, page_content='while learning our Machine learning tutorial. But if there is any mistake in this tutorial, kindly post the problem or error in the contact form so that we can improve it.Next TopicApplications of Machine Learning\\xa0next →\\xa0Learn Important TutorialPythonJavaJavascriptHTMLDatabasePHPC++ReactB.Tech / MCADBMSData StructuresDAAOperating SystemComputer NetworkCompiler DesignComputer OrganizationDiscrete MathematicsEthical HackingComputer GraphicsWeb TechnologySoftware EngineeringCyber SecurityAutomataC'),\n",
       " Document(metadata={'source': 'https://www.javatpoint.com/machine-learning', 'title': 'Machine Learning Tutorial', 'description': ' Machine Learning: What It is, Tutorial, Definition, Types with Machine Learning, Machine Learning Tutorial, Machine Learning Introduction, What is Machine Learning, Data Machine Learning, Applications of Machine Learning, Machine Learning vs Artificial Intelligence, dimensionality reduction, deep learning, etc.', 'language': 'en'}, page_content='HackingComputer GraphicsWeb TechnologySoftware EngineeringCyber SecurityAutomataC ProgrammingC++Java.NetPythonProgramsControl SystemData WarehousePreparationAptitudeReasoningVerbal AbilityInterview QuestionsCompany QuestionsWe provides tutorials and interview questions of all technology like java tutorial, android, java frameworksContact info G-13, 2nd Floor, Sec-3, Noida, UP, 201301, India[email\\xa0protected].Follow usLatest PostPRIVACY POLICYTutorialsJava Data Structures C Programming C++'),\n",
       " Document(metadata={'source': 'https://www.javatpoint.com/machine-learning', 'title': 'Machine Learning Tutorial', 'description': ' Machine Learning: What It is, Tutorial, Definition, Types with Machine Learning, Machine Learning Tutorial, Machine Learning Introduction, What is Machine Learning, Data Machine Learning, Applications of Machine Learning, Machine Learning vs Artificial Intelligence, dimensionality reduction, deep learning, etc.', 'language': 'en'}, page_content='usLatest PostPRIVACY POLICYTutorialsJava Data Structures C Programming C++ Tutorial C# Tutorial PHP Tutorial HTML Tutorial JavaScript Tutorial jQuery Tutorial Spring TutorialInterview QuestionsTcs Intuit Wipro Adobe Infosys Amazon Accenture Cognizant Capgemini MicrosoftOnline CompilerC R C++ Php Java Html Swift Python JavaScript TypeScript© Copyright 2024 Javatpoint. All Rights Reserved.')]"
      ]
     },
     "execution_count": 85,
     "metadata": {},
     "output_type": "execute_result"
    }
   ],
   "source": [
    "chunk=splitter.split_documents(doc)\n",
    "chunk"
   ]
  },
  {
   "cell_type": "code",
   "execution_count": 86,
   "metadata": {},
   "outputs": [],
   "source": [
    "from langchain_openai import OpenAIEmbeddings\n",
    "embedding=OpenAIEmbeddings()"
   ]
  },
  {
   "cell_type": "code",
   "execution_count": 87,
   "metadata": {},
   "outputs": [],
   "source": [
    "from langchain_community.vectorstores import FAISS\n",
    "vector_db=FAISS.from_documents(chunk,embedding)"
   ]
  },
  {
   "cell_type": "code",
   "execution_count": 88,
   "metadata": {},
   "outputs": [
    {
     "data": {
      "text/plain": [
       "<langchain_community.vectorstores.faiss.FAISS at 0x7f95494632b0>"
      ]
     },
     "execution_count": 88,
     "metadata": {},
     "output_type": "execute_result"
    }
   ],
   "source": [
    "vector_db"
   ]
  },
  {
   "cell_type": "code",
   "execution_count": 89,
   "metadata": {},
   "outputs": [],
   "source": [
    "vector_db.save_local(\"faiss_index\")"
   ]
  },
  {
   "cell_type": "code",
   "execution_count": 92,
   "metadata": {},
   "outputs": [],
   "source": [
    "query=\"What is machine learning\"\n",
    "result=vector_db.similarity_search(query)"
   ]
  },
  {
   "cell_type": "code",
   "execution_count": 93,
   "metadata": {},
   "outputs": [
    {
     "data": {
      "text/plain": [
       "'our machine learning tutorial.A rapidly developing field of technology, machine learning allows computers to automatically learn from previous data. For building mathematical models and making predictions based on historical data or information, machine learning employs a variety of algorithms. It is currently being used for a variety of tasks, including speech recognition, email filtering, auto-tagging on Facebook, a recommender system, and image recognition.You will learn about the many'"
      ]
     },
     "execution_count": 93,
     "metadata": {},
     "output_type": "execute_result"
    }
   ],
   "source": [
    "result[0].page_content"
   ]
  },
  {
   "cell_type": "code",
   "execution_count": 94,
   "metadata": {},
   "outputs": [],
   "source": [
    "from langchain_openai import ChatOpenAI\n",
    "llm=ChatOpenAI(model=\"gpt-4o\")"
   ]
  },
  {
   "cell_type": "code",
   "execution_count": 95,
   "metadata": {},
   "outputs": [
    {
     "data": {
      "text/plain": [
       "RunnableBinding(bound=RunnableBinding(bound=RunnableAssign(mapper={\n",
       "  context: RunnableLambda(format_docs)\n",
       "}), kwargs={}, config={'run_name': 'format_inputs'}, config_factories=[])\n",
       "| ChatPromptTemplate(input_variables=['context'], input_types={}, partial_variables={}, messages=[HumanMessagePromptTemplate(prompt=PromptTemplate(input_variables=['context'], input_types={}, partial_variables={}, template=' Answer the following question based on the provided context :\\n    <context>{context}</context>\\n    '), additional_kwargs={})])\n",
       "| ChatOpenAI(client=<openai.resources.chat.completions.Completions object at 0x7f9548f49960>, async_client=<openai.resources.chat.completions.AsyncCompletions object at 0x7f9548e15600>, root_client=<openai.OpenAI object at 0x7f954932fc40>, root_async_client=<openai.AsyncOpenAI object at 0x7f9548f4a5f0>, model_name='gpt-4o', model_kwargs={}, openai_api_key=SecretStr('**********'))\n",
       "| StrOutputParser(), kwargs={}, config={'run_name': 'stuff_documents_chain'}, config_factories=[])"
      ]
     },
     "execution_count": 95,
     "metadata": {},
     "output_type": "execute_result"
    }
   ],
   "source": [
    "### Retrival chain , Document chain\n",
    "from langchain.chains.combine_documents import create_stuff_documents_chain\n",
    "from langchain_core.prompts import ChatPromptTemplate\n",
    "\n",
    "prompt=ChatPromptTemplate.from_template(\n",
    "    \"\"\" Answer the following question based on the provided context :\n",
    "    <context>{context}</context>\n",
    "    \"\"\"\n",
    ")\n",
    "document_chain=create_stuff_documents_chain(llm,prompt)\n",
    "document_chain"
   ]
  },
  {
   "cell_type": "code",
   "execution_count": 101,
   "metadata": {},
   "outputs": [
    {
     "data": {
      "text/plain": [
       "'Yes, a machine can learn from experiences or past data similar to how humans do, and this is achieved through Machine Learning. Machine Learning is a field of artificial intelligence that enables computers or machines to learn from data and improve their performance over time without being explicitly programmed. It involves the use of algorithms and statistical models to analyze and interpret patterns in data, allowing machines to make predictions or decisions based on that data.'"
      ]
     },
     "execution_count": 101,
     "metadata": {},
     "output_type": "execute_result"
    }
   ],
   "source": [
    "from langchain_core.documents import Document\n",
    "document_chain.invoke({\n",
    "    \"input\":\"what is machine learning?\",\n",
    "    \"context\" : [Document(page_content=\"In the real world, we are surrounded by humans who can learn everything from their experiences with their learning capability, and we have computers or machines which work on our instructions. But can a machine also learn from experiences or past data like a human does? So here comes the role of Machine Learning.\")]\n",
    "})"
   ]
  },
  {
   "cell_type": "code",
   "execution_count": 103,
   "metadata": {},
   "outputs": [],
   "source": [
    "### Retriever\n",
    "retriever=vector_db.as_retriever()"
   ]
  },
  {
   "cell_type": "code",
   "execution_count": 104,
   "metadata": {},
   "outputs": [],
   "source": [
    "from langchain.chains import create_retrieval_chain\n",
    "retriever_chain=create_retrieval_chain(retriever,document_chain)"
   ]
  },
  {
   "cell_type": "code",
   "execution_count": 105,
   "metadata": {},
   "outputs": [
    {
     "data": {
      "text/plain": [
       "RunnableBinding(bound=RunnableAssign(mapper={\n",
       "  context: RunnableBinding(bound=RunnableLambda(lambda x: x['input'])\n",
       "           | VectorStoreRetriever(tags=['FAISS', 'OpenAIEmbeddings'], vectorstore=<langchain_community.vectorstores.faiss.FAISS object at 0x7f95494632b0>, search_kwargs={}), kwargs={}, config={'run_name': 'retrieve_documents'}, config_factories=[])\n",
       "})\n",
       "| RunnableAssign(mapper={\n",
       "    answer: RunnableBinding(bound=RunnableBinding(bound=RunnableAssign(mapper={\n",
       "              context: RunnableLambda(format_docs)\n",
       "            }), kwargs={}, config={'run_name': 'format_inputs'}, config_factories=[])\n",
       "            | ChatPromptTemplate(input_variables=['context'], input_types={}, partial_variables={}, messages=[HumanMessagePromptTemplate(prompt=PromptTemplate(input_variables=['context'], input_types={}, partial_variables={}, template=' Answer the following question based on the provided context :\\n    <context>{context}</context>\\n    '), additional_kwargs={})])\n",
       "            | ChatOpenAI(client=<openai.resources.chat.completions.Completions object at 0x7f9548f49960>, async_client=<openai.resources.chat.completions.AsyncCompletions object at 0x7f9548e15600>, root_client=<openai.OpenAI object at 0x7f954932fc40>, root_async_client=<openai.AsyncOpenAI object at 0x7f9548f4a5f0>, model_name='gpt-4o', model_kwargs={}, openai_api_key=SecretStr('**********'))\n",
       "            | StrOutputParser(), kwargs={}, config={'run_name': 'stuff_documents_chain'}, config_factories=[])\n",
       "  }), kwargs={}, config={'run_name': 'retrieval_chain'}, config_factories=[])"
      ]
     },
     "execution_count": 105,
     "metadata": {},
     "output_type": "execute_result"
    }
   ],
   "source": [
    "retriever_chain"
   ]
  },
  {
   "cell_type": "code",
   "execution_count": 106,
   "metadata": {},
   "outputs": [],
   "source": [
    "## response from the openai\n",
    "response=retriever_chain.invoke({\"input\":\"what is machine learning?\"})"
   ]
  },
  {
   "cell_type": "code",
   "execution_count": 107,
   "metadata": {},
   "outputs": [
    {
     "data": {
      "text/plain": [
       "{'input': 'what is machine learning?',\n",
       " 'context': [Document(metadata={'source': 'https://www.javatpoint.com/machine-learning', 'title': 'Machine Learning Tutorial', 'description': ' Machine Learning: What It is, Tutorial, Definition, Types with Machine Learning, Machine Learning Tutorial, Machine Learning Introduction, What is Machine Learning, Data Machine Learning, Applications of Machine Learning, Machine Learning vs Artificial Intelligence, dimensionality reduction, deep learning, etc.', 'language': 'en'}, page_content='our machine learning tutorial.A rapidly developing field of technology, machine learning allows computers to automatically learn from previous data. For building mathematical models and making predictions based on historical data or information, machine learning employs a variety of algorithms. It is currently being used for a variety of tasks, including speech recognition, email filtering, auto-tagging on Facebook, a recommender system, and image recognition.You will learn about the many'),\n",
       "  Document(metadata={'source': 'https://www.javatpoint.com/machine-learning', 'title': 'Machine Learning Tutorial', 'description': ' Machine Learning: What It is, Tutorial, Definition, Types with Machine Learning, Machine Learning Tutorial, Machine Learning Introduction, What is Machine Learning, Data Machine Learning, Applications of Machine Learning, Machine Learning vs Artificial Intelligence, dimensionality reduction, deep learning, etc.', 'language': 'en'}, page_content='machine learning is steadily rising. Because it is able to perform tasks that are too complex for a person to directly implement, machine learning is required. Humans are constrained by our inability to manually access vast amounts of data; as a result, we require computer systems, which is where machine learning comes in to simplify our lives.By providing them with a large amount of data and allowing them to automatically explore the data, build models, and predict the required output, we can'),\n",
       "  Document(metadata={'source': 'https://www.javatpoint.com/machine-learning', 'title': 'Machine Learning Tutorial', 'description': ' Machine Learning: What It is, Tutorial, Definition, Types with Machine Learning, Machine Learning Tutorial, Machine Learning Introduction, What is Machine Learning, Data Machine Learning, Applications of Machine Learning, Machine Learning vs Artificial Intelligence, dimensionality reduction, deep learning, etc.', 'language': 'en'}, page_content='known as machine learning focuses primarily on the creation of algorithms that enable a computer to independently learn from data and previous experiences. Arthur Samuel first used the term \"machine learning\" in 1959. It could be summarized as follows:Without being explicitly programmed, machine learning enables a machine to automatically learn from data, improve performance from experiences, and predict things.Machine learning algorithms create a mathematical model that, without being'),\n",
       "  Document(metadata={'source': 'https://www.javatpoint.com/machine-learning', 'title': 'Machine Learning Tutorial', 'description': ' Machine Learning: What It is, Tutorial, Definition, Types with Machine Learning, Machine Learning Tutorial, Machine Learning Introduction, What is Machine Learning, Data Machine Learning, Applications of Machine Learning, Machine Learning vs Artificial Intelligence, dimensionality reduction, deep learning, etc.', 'language': 'en'}, page_content='Machine LearningIn the real world, we are surrounded by humans who can learn everything from their experiences with their learning capability, and we have computers or machines which work on our instructions. But can a machine also learn from experiences or past data like a human does? So here comes the role of Machine Learning.Introduction to Machine LearningA subset of artificial intelligence known as machine learning focuses primarily on the creation of algorithms that enable a computer to')],\n",
       " 'answer': 'What is machine learning, and why is it important?\\n\\nMachine learning is a subset of artificial intelligence focused on creating algorithms that enable computers to learn from data and past experiences without being explicitly programmed. It is important because it allows computers to perform complex tasks that are difficult for humans to implement directly. By analyzing vast amounts of data, machine learning systems can build models and make predictions, thereby simplifying tasks such as speech recognition, email filtering, and recommender systems. This capability is essential because humans are limited in their ability to manually process large data sets, whereas machine learning can automate and enhance these processes.'}"
      ]
     },
     "execution_count": 107,
     "metadata": {},
     "output_type": "execute_result"
    }
   ],
   "source": [
    "response"
   ]
  },
  {
   "cell_type": "code",
   "execution_count": 108,
   "metadata": {},
   "outputs": [
    {
     "data": {
      "text/plain": [
       "'What is machine learning, and why is it important?\\n\\nMachine learning is a subset of artificial intelligence focused on creating algorithms that enable computers to learn from data and past experiences without being explicitly programmed. It is important because it allows computers to perform complex tasks that are difficult for humans to implement directly. By analyzing vast amounts of data, machine learning systems can build models and make predictions, thereby simplifying tasks such as speech recognition, email filtering, and recommender systems. This capability is essential because humans are limited in their ability to manually process large data sets, whereas machine learning can automate and enhance these processes.'"
      ]
     },
     "execution_count": 108,
     "metadata": {},
     "output_type": "execute_result"
    }
   ],
   "source": [
    "response[\"answer\"]"
   ]
  },
  {
   "cell_type": "code",
   "execution_count": null,
   "metadata": {},
   "outputs": [],
   "source": []
  }
 ],
 "metadata": {
  "kernelspec": {
   "display_name": "venv",
   "language": "python",
   "name": "python3"
  },
  "language_info": {
   "codemirror_mode": {
    "name": "ipython",
    "version": 3
   },
   "file_extension": ".py",
   "mimetype": "text/x-python",
   "name": "python",
   "nbconvert_exporter": "python",
   "pygments_lexer": "ipython3",
   "version": "3.10.0"
  }
 },
 "nbformat": 4,
 "nbformat_minor": 2
}
