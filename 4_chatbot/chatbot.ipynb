{
 "cells": [
  {
   "cell_type": "code",
   "execution_count": 3,
   "metadata": {},
   "outputs": [],
   "source": [
    "import os\n",
    "from dotenv import load_dotenv\n",
    "load_dotenv()\n",
    "groq_api_key=os.getenv(\"GROQ_API_KEY\")"
   ]
  },
  {
   "cell_type": "code",
   "execution_count": 5,
   "metadata": {},
   "outputs": [],
   "source": [
    "from langchain_groq import ChatGroq\n",
    "model=ChatGroq(model=\"gemma2-9b-it\",groq_api_key=groq_api_key)"
   ]
  },
  {
   "cell_type": "code",
   "execution_count": 6,
   "metadata": {},
   "outputs": [
    {
     "data": {
      "text/plain": [
       "AIMessage(content=\"As an AI, I don't have feelings, but I'm here and ready to assist you! How can I help you today?\\n\", additional_kwargs={}, response_metadata={'token_usage': {'completion_tokens': 32, 'prompt_tokens': 14, 'total_tokens': 46, 'completion_time': 0.058181818, 'prompt_time': 0.000133159, 'queue_time': 0.014845550999999998, 'total_time': 0.058314977}, 'model_name': 'gemma2-9b-it', 'system_fingerprint': 'fp_10c08bf97d', 'finish_reason': 'stop', 'logprobs': None}, id='run-2cdab616-40f8-4ede-89c9-57203ff94d30-0', usage_metadata={'input_tokens': 14, 'output_tokens': 32, 'total_tokens': 46})"
      ]
     },
     "execution_count": 6,
     "metadata": {},
     "output_type": "execute_result"
    }
   ],
   "source": [
    "from langchain_core.messages import HumanMessage , SystemMessage\n",
    "messages=[\n",
    "    SystemMessage(content=\"Translate the following from english to freanch\"),\n",
    "    HumanMessage(content=\"Hello how are you?\")\n",
    "]\n",
    "\n",
    "model.invoke([HumanMessage(content=\"Hello how are you?\")\n",
    "])"
   ]
  },
  {
   "cell_type": "code",
   "execution_count": 7,
   "metadata": {},
   "outputs": [
    {
     "data": {
      "text/plain": [
       "AIMessage(content='You are right! I apologize for that. I am still learning social cues.  \\n\\nHow are you doing today? 😊  \\n\\n', additional_kwargs={}, response_metadata={'token_usage': {'completion_tokens': 30, 'prompt_tokens': 62, 'total_tokens': 92, 'completion_time': 0.054545455, 'prompt_time': 0.001902466, 'queue_time': 0.011755241999999999, 'total_time': 0.056447921}, 'model_name': 'gemma2-9b-it', 'system_fingerprint': 'fp_10c08bf97d', 'finish_reason': 'stop', 'logprobs': None}, id='run-c76a5534-44d3-46ad-ae57-0c5857da3c3c-0', usage_metadata={'input_tokens': 62, 'output_tokens': 30, 'total_tokens': 92})"
      ]
     },
     "execution_count": 7,
     "metadata": {},
     "output_type": "execute_result"
    }
   ],
   "source": [
    "from langchain_core.messages import AIMessage\n",
    "model.invoke([HumanMessage(content=\"Hello how are you?\"),\n",
    "              AIMessage(content=\"As an AI, I don't have feelings, but I'm here and ready to assist you! How can I help you today?\\n\"),\n",
    "              HumanMessage(content=\"dont you ask how i was doing?\")\n",
    "])"
   ]
  },
  {
   "cell_type": "code",
   "execution_count": 10,
   "metadata": {},
   "outputs": [],
   "source": [
    "from langchain_community.chat_message_histories import ChatMessageHistory\n",
    "from langchain_core.chat_history import BaseChatMessageHistory\n",
    "from langchain_core.runnables.history import RunnableWithMessageHistory\n",
    "\n",
    "store={}\n",
    "def get_session_history(session_id:str)->BaseChatMessageHistory:\n",
    "    if session_id not in store:\n",
    "        store[session_id]=ChatMessageHistory()\n",
    "    return store[session_id]\n",
    "\n",
    "with_msg_history=RunnableWithMessageHistory(model,get_session_history)"
   ]
  },
  {
   "cell_type": "code",
   "execution_count": 11,
   "metadata": {},
   "outputs": [],
   "source": [
    "config={\"configurable\":{\"session_id\":\"chat_1\"}}"
   ]
  },
  {
   "cell_type": "code",
   "execution_count": 17,
   "metadata": {},
   "outputs": [],
   "source": [
    "response=with_msg_history.invoke(\n",
    "    [HumanMessage(content=\"Hi I am Raja Anthonysamy and profession is data scientist\")],\n",
    "    config=config\n",
    ")"
   ]
  },
  {
   "cell_type": "code",
   "execution_count": 18,
   "metadata": {},
   "outputs": [
    {
     "data": {
      "text/plain": [
       "\"It's nice to meet you, Raja Anthonysamy! \\n\\nThat's a fascinating profession. What kind of data science work do you do?  \\n\\nI'm always eager to learn more about different fields and how people use technology to solve problems. 😄  \\n\\n\""
      ]
     },
     "execution_count": 18,
     "metadata": {},
     "output_type": "execute_result"
    }
   ],
   "source": [
    "response.content"
   ]
  },
  {
   "cell_type": "code",
   "execution_count": 19,
   "metadata": {},
   "outputs": [],
   "source": [
    "response=with_msg_history.invoke(\n",
    "    [HumanMessage(content=\"What's my name?\")],\n",
    "    config=config\n",
    ")\n",
    "response.content"
   ]
  },
  {
   "cell_type": "code",
   "execution_count": 20,
   "metadata": {},
   "outputs": [
    {
     "data": {
      "text/plain": [
       "'Your name is Raja Anthonysamy. 😊  I remember!  \\n\\n\\n\\nIs there anything else I can help you with?\\n'"
      ]
     },
     "execution_count": 20,
     "metadata": {},
     "output_type": "execute_result"
    }
   ],
   "source": [
    "response.content"
   ]
  },
  {
   "cell_type": "code",
   "execution_count": 21,
   "metadata": {},
   "outputs": [],
   "source": [
    "config={\"configurable\":{\"session_id\":\"chat_2\"}}"
   ]
  },
  {
   "cell_type": "code",
   "execution_count": 22,
   "metadata": {},
   "outputs": [],
   "source": [
    "response=with_msg_history.invoke(\n",
    "    [HumanMessage(content=\"What's my name?\")],\n",
    "    config=config\n",
    ")"
   ]
  },
  {
   "cell_type": "code",
   "execution_count": 23,
   "metadata": {},
   "outputs": [
    {
     "data": {
      "text/plain": [
       "\"As an AI, I have no memory of past conversations and do not know your name. If you'd like to tell me, I'm happy to use it!\\n\""
      ]
     },
     "execution_count": 23,
     "metadata": {},
     "output_type": "execute_result"
    }
   ],
   "source": [
    "response.content"
   ]
  },
  {
   "cell_type": "code",
   "execution_count": 24,
   "metadata": {},
   "outputs": [
    {
     "data": {
      "text/plain": [
       "{'chat_1': InMemoryChatMessageHistory(messages=[HumanMessage(content='Hello how are you?', additional_kwargs={}, response_metadata={}), AIMessage(content=\"As a large language model, I don't have feelings or experiences like humans do. However, I'm here and ready to assist you with any questions or tasks you may have.\\n\\nHow can I help you today?\\n\", additional_kwargs={}, response_metadata={'token_usage': {'completion_tokens': 49, 'prompt_tokens': 14, 'total_tokens': 63, 'completion_time': 0.089090909, 'prompt_time': 0.000209279, 'queue_time': 0.019981411, 'total_time': 0.089300188}, 'model_name': 'gemma2-9b-it', 'system_fingerprint': 'fp_10c08bf97d', 'finish_reason': 'stop', 'logprobs': None}, id='run-2a54229b-3ea0-4640-ad95-b9732dd9dc77-0', usage_metadata={'input_tokens': 14, 'output_tokens': 49, 'total_tokens': 63}), HumanMessage(content='Hello how are you?', additional_kwargs={}, response_metadata={}), AIMessage(content=\"I'm doing well, thank you! \\n\\nHow are you today? 😊  \\n\", additional_kwargs={}, response_metadata={'token_usage': {'completion_tokens': 21, 'prompt_tokens': 76, 'total_tokens': 97, 'completion_time': 0.038181818, 'prompt_time': 0.003537059, 'queue_time': 0.018536947, 'total_time': 0.041718877}, 'model_name': 'gemma2-9b-it', 'system_fingerprint': 'fp_10c08bf97d', 'finish_reason': 'stop', 'logprobs': None}, id='run-ca6e1f36-9b93-4140-a08b-ba89f6776f13-0', usage_metadata={'input_tokens': 76, 'output_tokens': 21, 'total_tokens': 97}), HumanMessage(content='Hi I am Raja Anthonysamy and profession is data scientist', additional_kwargs={}, response_metadata={}), AIMessage(content=\"It's nice to meet you, Raja Anthonysamy! \\n\\nThat's a fascinating profession. What kind of data science work do you do?  \\n\\nI'm always eager to learn more about different fields and how people use technology to solve problems. 😄  \\n\\n\", additional_kwargs={}, response_metadata={'token_usage': {'completion_tokens': 61, 'prompt_tokens': 118, 'total_tokens': 179, 'completion_time': 0.110909091, 'prompt_time': 0.008512123, 'queue_time': 0.0066734870000000005, 'total_time': 0.119421214}, 'model_name': 'gemma2-9b-it', 'system_fingerprint': 'fp_10c08bf97d', 'finish_reason': 'stop', 'logprobs': None}, id='run-70aaac92-f402-42e0-a03f-1c8a66186558-0', usage_metadata={'input_tokens': 118, 'output_tokens': 61, 'total_tokens': 179}), HumanMessage(content=\"What's my name?\", additional_kwargs={}, response_metadata={}), AIMessage(content='Your name is Raja Anthonysamy. 😊  I remember!  \\n\\n\\n\\nIs there anything else I can help you with?\\n', additional_kwargs={}, response_metadata={'token_usage': {'completion_tokens': 29, 'prompt_tokens': 192, 'total_tokens': 221, 'completion_time': 0.052727273, 'prompt_time': 0.007144538, 'queue_time': 0.007442242000000001, 'total_time': 0.059871811}, 'model_name': 'gemma2-9b-it', 'system_fingerprint': 'fp_10c08bf97d', 'finish_reason': 'stop', 'logprobs': None}, id='run-63df76e2-5bb1-4bb5-89fc-0a4eef06ae64-0', usage_metadata={'input_tokens': 192, 'output_tokens': 29, 'total_tokens': 221})]),\n",
       " 'chat_2': InMemoryChatMessageHistory(messages=[HumanMessage(content=\"What's my name?\", additional_kwargs={}, response_metadata={}), AIMessage(content=\"As an AI, I have no memory of past conversations and do not know your name. If you'd like to tell me, I'm happy to use it!\\n\", additional_kwargs={}, response_metadata={'token_usage': {'completion_tokens': 38, 'prompt_tokens': 15, 'total_tokens': 53, 'completion_time': 0.069090909, 'prompt_time': 9.9079e-05, 'queue_time': 0.015150921, 'total_time': 0.069189988}, 'model_name': 'gemma2-9b-it', 'system_fingerprint': 'fp_10c08bf97d', 'finish_reason': 'stop', 'logprobs': None}, id='run-c77e912b-d346-46f8-b218-d63b931bd163-0', usage_metadata={'input_tokens': 15, 'output_tokens': 38, 'total_tokens': 53})])}"
      ]
     },
     "execution_count": 24,
     "metadata": {},
     "output_type": "execute_result"
    }
   ],
   "source": [
    "store"
   ]
  },
  {
   "cell_type": "code",
   "execution_count": 25,
   "metadata": {},
   "outputs": [],
   "source": [
    "response=with_msg_history.invoke(\n",
    "    [HumanMessage(content=\"Do you know Raja Anthonysamy\")],\n",
    "    config=config\n",
    ")"
   ]
  },
  {
   "cell_type": "code",
   "execution_count": 26,
   "metadata": {},
   "outputs": [
    {
     "data": {
      "text/plain": [
       "\"I don't have access to real-time information or personal details about individuals like Raja Anthonysamy. To find information about someone, you could try searching online using a search engine. \\n\\nIs there something specific you'd like to know about Raja Anthonysamy? Perhaps I could help you find relevant information online.\\n\""
      ]
     },
     "execution_count": 26,
     "metadata": {},
     "output_type": "execute_result"
    }
   ],
   "source": [
    "response.content"
   ]
  },
  {
   "cell_type": "code",
   "execution_count": 27,
   "metadata": {},
   "outputs": [
    {
     "data": {
      "text/plain": [
       "{'chat_1': InMemoryChatMessageHistory(messages=[HumanMessage(content='Hello how are you?', additional_kwargs={}, response_metadata={}), AIMessage(content=\"As a large language model, I don't have feelings or experiences like humans do. However, I'm here and ready to assist you with any questions or tasks you may have.\\n\\nHow can I help you today?\\n\", additional_kwargs={}, response_metadata={'token_usage': {'completion_tokens': 49, 'prompt_tokens': 14, 'total_tokens': 63, 'completion_time': 0.089090909, 'prompt_time': 0.000209279, 'queue_time': 0.019981411, 'total_time': 0.089300188}, 'model_name': 'gemma2-9b-it', 'system_fingerprint': 'fp_10c08bf97d', 'finish_reason': 'stop', 'logprobs': None}, id='run-2a54229b-3ea0-4640-ad95-b9732dd9dc77-0', usage_metadata={'input_tokens': 14, 'output_tokens': 49, 'total_tokens': 63}), HumanMessage(content='Hello how are you?', additional_kwargs={}, response_metadata={}), AIMessage(content=\"I'm doing well, thank you! \\n\\nHow are you today? 😊  \\n\", additional_kwargs={}, response_metadata={'token_usage': {'completion_tokens': 21, 'prompt_tokens': 76, 'total_tokens': 97, 'completion_time': 0.038181818, 'prompt_time': 0.003537059, 'queue_time': 0.018536947, 'total_time': 0.041718877}, 'model_name': 'gemma2-9b-it', 'system_fingerprint': 'fp_10c08bf97d', 'finish_reason': 'stop', 'logprobs': None}, id='run-ca6e1f36-9b93-4140-a08b-ba89f6776f13-0', usage_metadata={'input_tokens': 76, 'output_tokens': 21, 'total_tokens': 97}), HumanMessage(content='Hi I am Raja Anthonysamy and profession is data scientist', additional_kwargs={}, response_metadata={}), AIMessage(content=\"It's nice to meet you, Raja Anthonysamy! \\n\\nThat's a fascinating profession. What kind of data science work do you do?  \\n\\nI'm always eager to learn more about different fields and how people use technology to solve problems. 😄  \\n\\n\", additional_kwargs={}, response_metadata={'token_usage': {'completion_tokens': 61, 'prompt_tokens': 118, 'total_tokens': 179, 'completion_time': 0.110909091, 'prompt_time': 0.008512123, 'queue_time': 0.0066734870000000005, 'total_time': 0.119421214}, 'model_name': 'gemma2-9b-it', 'system_fingerprint': 'fp_10c08bf97d', 'finish_reason': 'stop', 'logprobs': None}, id='run-70aaac92-f402-42e0-a03f-1c8a66186558-0', usage_metadata={'input_tokens': 118, 'output_tokens': 61, 'total_tokens': 179}), HumanMessage(content=\"What's my name?\", additional_kwargs={}, response_metadata={}), AIMessage(content='Your name is Raja Anthonysamy. 😊  I remember!  \\n\\n\\n\\nIs there anything else I can help you with?\\n', additional_kwargs={}, response_metadata={'token_usage': {'completion_tokens': 29, 'prompt_tokens': 192, 'total_tokens': 221, 'completion_time': 0.052727273, 'prompt_time': 0.007144538, 'queue_time': 0.007442242000000001, 'total_time': 0.059871811}, 'model_name': 'gemma2-9b-it', 'system_fingerprint': 'fp_10c08bf97d', 'finish_reason': 'stop', 'logprobs': None}, id='run-63df76e2-5bb1-4bb5-89fc-0a4eef06ae64-0', usage_metadata={'input_tokens': 192, 'output_tokens': 29, 'total_tokens': 221})]),\n",
       " 'chat_2': InMemoryChatMessageHistory(messages=[HumanMessage(content=\"What's my name?\", additional_kwargs={}, response_metadata={}), AIMessage(content=\"As an AI, I have no memory of past conversations and do not know your name. If you'd like to tell me, I'm happy to use it!\\n\", additional_kwargs={}, response_metadata={'token_usage': {'completion_tokens': 38, 'prompt_tokens': 15, 'total_tokens': 53, 'completion_time': 0.069090909, 'prompt_time': 9.9079e-05, 'queue_time': 0.015150921, 'total_time': 0.069189988}, 'model_name': 'gemma2-9b-it', 'system_fingerprint': 'fp_10c08bf97d', 'finish_reason': 'stop', 'logprobs': None}, id='run-c77e912b-d346-46f8-b218-d63b931bd163-0', usage_metadata={'input_tokens': 15, 'output_tokens': 38, 'total_tokens': 53}), HumanMessage(content='Do you know Raja Anthonysamy', additional_kwargs={}, response_metadata={}), AIMessage(content=\"I don't have access to real-time information or personal details about individuals like Raja Anthonysamy. To find information about someone, you could try searching online using a search engine. \\n\\nIs there something specific you'd like to know about Raja Anthonysamy? Perhaps I could help you find relevant information online.\\n\", additional_kwargs={}, response_metadata={'token_usage': {'completion_tokens': 71, 'prompt_tokens': 69, 'total_tokens': 140, 'completion_time': 0.129090909, 'prompt_time': 0.002035414, 'queue_time': 0.012141406, 'total_time': 0.131126323}, 'model_name': 'gemma2-9b-it', 'system_fingerprint': 'fp_10c08bf97d', 'finish_reason': 'stop', 'logprobs': None}, id='run-bf1cfb03-f51f-481c-92d6-b31767d5c590-0', usage_metadata={'input_tokens': 69, 'output_tokens': 71, 'total_tokens': 140})])}"
      ]
     },
     "execution_count": 27,
     "metadata": {},
     "output_type": "execute_result"
    }
   ],
   "source": [
    "store"
   ]
  },
  {
   "cell_type": "code",
   "execution_count": 29,
   "metadata": {},
   "outputs": [
    {
     "data": {
      "text/plain": [
       "{'name': None,\n",
       " 'bound': RunnableBinding(bound=RunnableBinding(bound=RunnableLambda(_enter_history), kwargs={}, config={'run_name': 'load_history'}, config_factories=[])\n",
       " | RunnableBinding(bound=RunnableLambda(_call_runnable_sync), kwargs={}, config={'run_name': 'check_sync_or_async'}, config_factories=[]), kwargs={}, config={'run_name': 'RunnableWithMessageHistory'}, config_factories=[]),\n",
       " 'kwargs': {},\n",
       " 'config': {},\n",
       " 'config_factories': [],\n",
       " 'custom_input_type': None,\n",
       " 'custom_output_type': None,\n",
       " 'get_session_history': <function __main__.get_session_history(session_id: str) -> langchain_core.chat_history.BaseChatMessageHistory>,\n",
       " 'input_messages_key': None,\n",
       " 'output_messages_key': None,\n",
       " 'history_messages_key': None,\n",
       " 'history_factory_config': [ConfigurableFieldSpec(id='session_id', annotation=<class 'str'>, name='Session ID', description='Unique identifier for a session.', default='', is_shared=True, dependencies=None)],\n",
       " '_history_chain': RunnableBinding(bound=RunnableLambda(_enter_history), kwargs={}, config={'run_name': 'load_history'}, config_factories=[])}"
      ]
     },
     "execution_count": 29,
     "metadata": {},
     "output_type": "execute_result"
    }
   ],
   "source": [
    "with_msg_history.__dict__"
   ]
  },
  {
   "cell_type": "code",
   "execution_count": 38,
   "metadata": {},
   "outputs": [
    {
     "data": {
      "text/plain": [
       "<function __main__.get_session_history(session_id: str) -> langchain_core.chat_history.BaseChatMessageHistory>"
      ]
     },
     "execution_count": 38,
     "metadata": {},
     "output_type": "execute_result"
    }
   ],
   "source": [
    "with_msg_history.get_session_history"
   ]
  },
  {
   "cell_type": "code",
   "execution_count": null,
   "metadata": {},
   "outputs": [],
   "source": []
  },
  {
   "cell_type": "code",
   "execution_count": null,
   "metadata": {},
   "outputs": [],
   "source": []
  }
 ],
 "metadata": {
  "kernelspec": {
   "display_name": "venv",
   "language": "python",
   "name": "python3"
  },
  "language_info": {
   "codemirror_mode": {
    "name": "ipython",
    "version": 3
   },
   "file_extension": ".py",
   "mimetype": "text/x-python",
   "name": "python",
   "nbconvert_exporter": "python",
   "pygments_lexer": "ipython3",
   "version": "3.10.0"
  }
 },
 "nbformat": 4,
 "nbformat_minor": 2
}
